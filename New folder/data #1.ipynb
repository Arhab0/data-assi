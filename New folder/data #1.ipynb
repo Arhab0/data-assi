{
 "cells": [
  {
   "cell_type": "code",
   "execution_count": 1,
   "id": "2eeeeeb0",
   "metadata": {},
   "outputs": [
    {
     "name": "stdout",
     "output_type": "stream",
     "text": [
      "Twinkle,twinkle,little star\n",
      "      How i wonder what you are!\n",
      "              Up above the world so high,\n",
      "              Like a diamond in the sky.\n",
      "Twinkle,twinkle,little star,\n",
      "      How i wonder what you are\n"
     ]
    }
   ],
   "source": [
    "print(\"Twinkle,twinkle,little star\\n      How i wonder what you are!\\n              Up above the world so high,\\n              Like a diamond in the sky.\\nTwinkle,twinkle,little star,\\n      How i wonder what you are\");"
   ]
  },
  {
   "cell_type": "code",
   "execution_count": 3,
   "id": "c00306c4",
   "metadata": {},
   "outputs": [
    {
     "name": "stdout",
     "output_type": "stream",
     "text": [
      "Python version\n",
      "3.8.8 (default, Apr 13 2021, 15:08:03) [MSC v.1916 64 bit (AMD64)]\n",
      "Version info.\n",
      "sys.version_info(major=3, minor=8, micro=8, releaselevel='final', serial=0)\n"
     ]
    }
   ],
   "source": [
    "import sys\n",
    "print(\"Python version\")\n",
    "print (sys.version)\n",
    "print(\"Version info.\")\n",
    "print (sys.version_info)\n"
   ]
  },
  {
   "cell_type": "code",
   "execution_count": 4,
   "id": "e7b5343c",
   "metadata": {},
   "outputs": [
    {
     "name": "stdout",
     "output_type": "stream",
     "text": [
      "Current date and time : \n",
      "2021-12-29 19:30:12\n"
     ]
    }
   ],
   "source": [
    "import datetime\n",
    "now = datetime.datetime.now()\n",
    "print (\"Current date and time : \")\n",
    "print (now.strftime(\"%Y-%m-%d %H:%M:%S\"))\n"
   ]
  },
  {
   "cell_type": "code",
   "execution_count": 5,
   "id": "0e432263",
   "metadata": {},
   "outputs": [
    {
     "name": "stdout",
     "output_type": "stream",
     "text": [
      "Enter the value5\n",
      "78.57142857142857\n"
     ]
    }
   ],
   "source": [
    "r = int(input(\"Enter the value\"));\n",
    "area = (22/7)*(r**2);\n",
    "print(area);"
   ]
  },
  {
   "cell_type": "code",
   "execution_count": 6,
   "id": "8df57e67",
   "metadata": {},
   "outputs": [
    {
     "name": "stdout",
     "output_type": "stream",
     "text": [
      "Umer  Arhab\n"
     ]
    }
   ],
   "source": [
    "First_name =(\"Arhab\")\n",
    "Last_name =(\"Umer\")\n",
    "print(Last_name + \"  \" + First_name)"
   ]
  },
  {
   "cell_type": "code",
   "execution_count": 7,
   "id": "7d528ca5",
   "metadata": {},
   "outputs": [
    {
     "name": "stdout",
     "output_type": "stream",
     "text": [
      "enter the value7\n",
      "enter the value98\n",
      "105\n"
     ]
    }
   ],
   "source": [
    "a =int(input(\"enter the value\"));\n",
    "b =int(input(\"enter the value\"));\n",
    "x = a + b\n",
    "print(x)"
   ]
  },
  {
   "cell_type": "code",
   "execution_count": null,
   "id": "4976c63f",
   "metadata": {},
   "outputs": [],
   "source": []
  }
 ],
 "metadata": {
  "kernelspec": {
   "display_name": "Python 3",
   "language": "python",
   "name": "python3"
  },
  "language_info": {
   "codemirror_mode": {
    "name": "ipython",
    "version": 3
   },
   "file_extension": ".py",
   "mimetype": "text/x-python",
   "name": "python",
   "nbconvert_exporter": "python",
   "pygments_lexer": "ipython3",
   "version": "3.8.8"
  }
 },
 "nbformat": 4,
 "nbformat_minor": 5
}
